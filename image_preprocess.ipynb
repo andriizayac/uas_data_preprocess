{
 "cells": [
  {
   "cell_type": "markdown",
   "metadata": {},
   "source": [
    "### Image preprocessing for DJI Mavic 2 Pro and Phantom 4 Multispectral (P4M) data\n",
    "##### _Last update: 27 July 2022_\n",
    "##### _Authors: Andrii Zaiats, Valorie Marie_\n",
    "##### Purpose: This file includes image preprocessing steps that can be useful for SfM and multispectral workflows. The following steps are included:\n",
    "\n",
    "RGB images:  \n",
    "\n",
    "1. Converting proprietary image formats (e.g., Sony .ARW) to .dng format.\n",
    "2. Converting .dng files to .jpg\n",
    "3. Applying CLAHE (ontrast-limited adaptive historgram equalization) image corrections\n",
    "4. Copying metadata from .dng to the newly created .jpg files  \n",
    "\n",
    "Multispectral images:  \n",
    "\n",
    "5. MicaSense Image Processing with calibration panel."
   ]
  },
  {
   "cell_type": "markdown",
   "metadata": {},
   "source": [
    "Required software:\n",
    "* <a href=\"https://helpx.adobe.com/camera-raw/using/adobe-dng-converter.html\">Adobe DNG Converter<a>\n",
    "* <a href=\"https://imagemagick.org/\">ImageMagick<a>\n",
    "* <a href=\"https://exiftool.org/\">ExifTool<a>\n",
    "* <a href=\"https://github.com/micasense/imageprocessing\">MicaSense GitHub Image processing repository (_see MicaSense Image Processing Setup.ipynb_)<a>"
   ]
  },
  {
   "cell_type": "markdown",
   "metadata": {},
   "source": [
    "####  1. Converting proprietary image formats (e.g., Sony .ARW) to .dng format.\n",
    "This steps relies on Adobe DNG Converter software (available freely).  \n",
    "\n",
    "Instructions:  \n",
    "* Select intput/output locations: input directory should contain .ARW files, output directory is where the new .dng files will apprear\n",
    "* the rest of the default settings should be fine\n",
    "* click Exit and verify that the new .dng files are where they should be"
   ]
  },
  {
   "cell_type": "markdown",
   "metadata": {},
   "source": [
    "#### 2. Converting .dng files to .jpg  \n",
    "\n",
    "First, specify the path where the .dng files are located (_e.g., `path = 'D:/folder1/folder2/'`_)"
   ]
  },
  {
   "cell_type": "code",
   "execution_count": 1,
   "metadata": {},
   "outputs": [],
   "source": [
    "path = 'D:/Andrii/20220603_InitialPoint/mavic_rgb_images_tif/'"
   ]
  },
  {
   "cell_type": "markdown",
   "metadata": {},
   "source": [
    "Next, run ImageMagick command using python interface. (There exists a designated python package for ImageMagick but currently it is not implmenented).  \n",
    "_Input:_ a path to the folder with .dng images (specified above).  \n",
    "_Output:_ a copy of .dng images in .jpg format in the same directory where the .dng files are. That is okay, after modifying the images we can transfer the files over to a designated, final location."
   ]
  },
  {
   "cell_type": "code",
   "execution_count": 2,
   "metadata": {},
   "outputs": [
    {
     "data": {
      "text/plain": [
       "0"
      ]
     },
     "execution_count": 2,
     "metadata": {},
     "output_type": "execute_result"
    }
   ],
   "source": [
    "cmd = 'magick mogrify -format jpg -quality 100 ' + path + '*.DNG'\n",
    "os.system(cmd)"
   ]
  },
  {
   "cell_type": "markdown",
   "metadata": {},
   "source": [
    "#### 3. Applying CLAHE (contrast-limited adaptive historgram equalization) image corrections\n",
    "Thic correction appears to improve the contrast while mitigating shadows in the images. Not sure what effect this may have for the ODM reconstruction process, but since .jpg file format is mostly used for SfM, changing color properties of the images may help.  \n",
    "\n",
    "_Note: Originally, this correction required adjusting the colours in Lightroom before running the CLAHE correction (not implemented here, but maybe could be done with ImageMagick). If implemented, the colour corrections should be Shadows & Blacks +100 and Highlights & Whites -100_"
   ]
  },
  {
   "cell_type": "code",
   "execution_count": 3,
   "metadata": {},
   "outputs": [],
   "source": [
    "import cv2 as cv\n",
    "from os import listdir\n",
    "from os.path import join\n",
    "\n",
    "files = [s for s in listdir(path) if s.endswith('.jpg')]\n",
    "\n",
    "# provide path to the images\n",
    "for n in range(0, len(files)):\n",
    "    \n",
    "    fimg = join(path, files[n])\n",
    "    img = cv.imread(fimg)\n",
    "\n",
    "    img_yuv = cv.cvtColor(img, cv.COLOR_BGR2YUV)\n",
    "    clahe = cv.createCLAHE(clipLimit = 2, tileGridSize = (8,8))\n",
    "\n",
    "    img_yuv[:,:,0] = clahe.apply(img_yuv[:,:,0])\n",
    "    img_output = cv.cvtColor(img_yuv, cv.COLOR_YUV2BGR)\n",
    "\n",
    "    output_image = join(path, files[n])\n",
    "    cv.imwrite(output_image, img_output)\n"
   ]
  },
  {
   "cell_type": "markdown",
   "metadata": {},
   "source": [
    "#### 4. Copying metadata from .dng to .jpg files\n",
    "After steps 2 and 3, we should have a collection of .jpg files (CLAHE corrected or not) in the same folder where the original .dng files are. In this step, we use `exiftool` package to copy the metadata from the original .dng files to the newly created (and corrected) images. After copying over the metadata, this cell also moves the .jpg files to another, user specified, directory."
   ]
  },
  {
   "cell_type": "code",
   "execution_count": null,
   "metadata": {},
   "outputs": [],
   "source": [
    "import shutil \n",
    "\n",
    "cmd1 = 'exiftool -tagsfromfile %d%f.dng -all:all -overwrite_original -ext jpg ' + path \n",
    "os.system(cmd1)\n",
    "\n",
    "for f in files:\n",
    "    shutil.move(join(path, f), join(path + '/jpg'))"
   ]
  },
  {
   "cell_type": "markdown",
   "metadata": {},
   "source": [
    "##### 5. Multispectral radiometric calibration\n",
    "The following code is relevant to the processing P4M multispectral images only. Specifically, it implements radiometric calibration  using the DLS (on-board Downdwelling Light Sensor on Phantom 4 Multispectral). The code implements a package written specifically for this task (https://github.com/gdslab/p4m), which, in turn, heavily borrows from the MicaSense tutorials and source code.  \n",
    "\n",
    "_Note: the default exiftool package does not work. The solution is to use a previous version of the package (`pip install pyexiftool==0.4.13` from https://github.com/micasense/imageprocessing/issues/177 )._  \n",
    "\n",
    "_Note: to use MicaSense source code from the GitHub repo the repository needs to be activated from the specific Anaconda environment each time the code is used. If using VSCode Editor, in the top-right corner click on the current kernel and make sure to select 'micasense(Python 3.7.23)'._  \n"
   ]
  },
  {
   "cell_type": "code",
   "execution_count": 10,
   "metadata": {},
   "outputs": [
    {
     "data": {
      "text/plain": [
       "0"
      ]
     },
     "execution_count": 10,
     "metadata": {},
     "output_type": "execute_result"
    }
   ],
   "source": [
    "os.chdir('C:/Users/caugh/p4m')\n",
    "os.system('conda activate P4M')\n",
    "os.system('python raw2ref.py D:/Valorie/2022_field_campaign/NorthHam/multispec_images/ D:/Valorie/2022_field_campaign/NorthHam/multispec_images_refl/')"
   ]
  },
  {
   "cell_type": "markdown",
   "metadata": {},
   "source": [
    "To-do list and questions:\n",
    "* test the implementation of the above steps on Han to test package versioning/setups/environemnts\n",
    "* verify DLS sensor corrects the orthomosaic artifacts - **yes.good**\n",
    "* do we need to use the reflectance panel at all? is DLS sensor good enough? - **Yes - refl panel is necessary if we want to compare stuff between sites; for within-site consistency on-board calibratoin should be enough, but that's not what we're after.**\n",
    "* use lossless image format (e.g., tif)?\n"
   ]
  },
  {
   "cell_type": "markdown",
   "metadata": {},
   "source": [
    "### Test: Implementation of the p4m source code"
   ]
  },
  {
   "cell_type": "code",
   "execution_count": null,
   "metadata": {},
   "outputs": [],
   "source": [
    "os.chdir('C:/Users/caugh/imageprocessing/')\n",
    "os.system('conda activate micasense')"
   ]
  },
  {
   "cell_type": "code",
   "execution_count": null,
   "metadata": {},
   "outputs": [],
   "source": [
    "os.chdir('C:/Users/caugh/p4m/')\n",
    "os.system('conda activate P4M')"
   ]
  },
  {
   "cell_type": "code",
   "execution_count": null,
   "metadata": {},
   "outputs": [],
   "source": [
    "\n",
    "import os, glob\n",
    "import numpy as np\n",
    "import tifffile\n",
    "import micasense.capture as capture\n",
    "import micasense.dls as dls\n",
    "import micasense.metadata as metadata\n",
    "import time\n",
    "import sys\n",
    "import exiftool\n",
    "import json"
   ]
  },
  {
   "cell_type": "code",
   "execution_count": null,
   "metadata": {},
   "outputs": [],
   "source": [
    "os.getcwd()"
   ]
  },
  {
   "cell_type": "code",
   "execution_count": 87,
   "metadata": {},
   "outputs": [
    {
     "name": "stdout",
     "output_type": "stream",
     "text": [
      "['D:/Andrii/test/ci_raw\\\\DJI_0011.TIF', 'D:/Andrii/test/ci_raw\\\\DJI_0012.TIF', 'D:/Andrii/test/ci_raw\\\\DJI_0013.TIF', 'D:/Andrii/test/ci_raw\\\\DJI_0014.TIF', 'D:/Andrii/test/ci_raw\\\\DJI_0015.TIF', 'D:/Andrii/test/ci_raw\\\\DJI_0021.TIF', 'D:/Andrii/test/ci_raw\\\\DJI_0022.TIF', 'D:/Andrii/test/ci_raw\\\\DJI_0023.TIF', 'D:/Andrii/test/ci_raw\\\\DJI_0024.TIF', 'D:/Andrii/test/ci_raw\\\\DJI_0025.TIF', 'D:/Andrii/test/ci_raw\\\\DJI_0031.TIF', 'D:/Andrii/test/ci_raw\\\\DJI_0032.TIF', 'D:/Andrii/test/ci_raw\\\\DJI_0033.TIF', 'D:/Andrii/test/ci_raw\\\\DJI_0034.TIF', 'D:/Andrii/test/ci_raw\\\\DJI_0035.TIF']\n",
      "D:/Andrii/test/ci_raw\\DJI_0021.TIF\n",
      "4546.378180288461\n",
      "73189.0\n",
      "109.35662\n"
     ]
    }
   ],
   "source": [
    "\n",
    "input_dir = \"D:/Andrii/test/ci_raw/\"\n",
    "output_dir = \"D:/Andrii/test/ci_refl/\"\n",
    "\n",
    "initial_path = os.getcwd()\n",
    "\n",
    "# Raw Image (.TIF) should be in path \"raw_images\"\n",
    "raw_image_list = glob.glob(os.path.join(input_dir,'*.TIF'))\n",
    "#image_names = sorted(glob.glob(os.path.join(os.getcwd()+'/raw_images/100MEDIA_DJI_0192.TIF')))\n",
    "print(raw_image_list)\n",
    "i = 5\n",
    "\n",
    "raw_image = raw_image_list[i]\n",
    "#print(\"Processing %s [%d/%d] %.2f percent done.\" % (os.path.basename(raw_image), i+1, len(raw_image_list), float(i+1)/float(len(raw_image_list)) * 100))\n",
    "\n",
    "print(raw_image)\n",
    "cap = capture.Capture.from_filelist([raw_image])\n",
    "\n",
    "dls_orientation_vector = np.array([0,0,-1])\n",
    "    # compute sun orientation and sun-sensor angles\n",
    "(\n",
    "sun_vector_ned,    # Solar vector in North-East-Down coordinates\n",
    "sensor_vector_ned, # DLS vector in North-East-Down coordinates\n",
    "sun_sensor_angle,  # Angle between DLS vector and sun vector\n",
    "solar_elevation,   # Elevation of the sun above the horizon\n",
    "solar_azimuth,     # Azimuth (heading) of the sun\n",
    ") = dls.compute_sun_angle(cap.location(),\n",
    "                    cap.dls_pose(),\n",
    "                    cap.utc_time(),\n",
    "                    dls_orientation_vector)\n",
    "\n",
    "# Get Spectral Irradiance (= Sun Sensor Irradiance) for each image from its metadata\n",
    "spectral_irradiances=[]\n",
    "\n",
    "meta = metadata.Metadata(raw_image, exiftoolPath=None)\n",
    "spectral_irradiances.append(meta.get_item('XMP:Irradiance'))\n",
    "\n",
    "dls_irradiances = []\n",
    "\n",
    "fresnel_correction = dls.fresnel(sun_sensor_angle)\n",
    "dir_dif_ratio = 6.0  # Default value from MicaSense\n",
    "percent_diffuse = 1.0/dir_dif_ratio\n",
    "sensor_irradiance = spectral_irradiances/fresnel_correction\n",
    "untilted_direct_irr = sensor_irradiance / (percent_diffuse + np.cos(sun_sensor_angle))\n",
    "\n",
    "# compute irradiance on the ground (= DLS Irradiance) using the solar altitude angle\n",
    "dls_irr = untilted_direct_irr * (percent_diffuse + np.sin(solar_elevation))\n",
    "dls_irradiances.append(dls_irr)\n",
    "\n",
    "# Produce Reflectance Images\n",
    "reflectance_image = cap.compute_reflectance(dls_irradiances)\n",
    "reflectance_image = np.array(reflectance_image)[0,:,:]\n",
    "\n",
    "# Reflectance Images (Float64 --> Int16)\n",
    "reflectance_image = np.round(reflectance_image,5)\n",
    "reflectance_image = np.round(reflectance_image*2**16)\n",
    "# reflectance_image = np.uint16(reflectance_image)\n",
    "\n",
    "print(np.mean(reflectance_image))\n",
    "print(reflectance_image.max())\n",
    "print(spectral_irradiances[0]*0.01)"
   ]
  },
  {
   "cell_type": "code",
   "execution_count": 86,
   "metadata": {},
   "outputs": [
    {
     "data": {
      "text/plain": [
       "(array([[1.300e+03, 0.000e+00, 0.000e+00, ..., 0.000e+00, 0.000e+00,\n",
       "         0.000e+00],\n",
       "        [1.299e+03, 0.000e+00, 0.000e+00, ..., 0.000e+00, 1.000e+00,\n",
       "         0.000e+00],\n",
       "        [1.298e+03, 0.000e+00, 0.000e+00, ..., 0.000e+00, 1.000e+00,\n",
       "         1.000e+00],\n",
       "        ...,\n",
       "        [1.300e+03, 0.000e+00, 0.000e+00, ..., 0.000e+00, 0.000e+00,\n",
       "         0.000e+00],\n",
       "        [1.300e+03, 0.000e+00, 0.000e+00, ..., 0.000e+00, 0.000e+00,\n",
       "         0.000e+00],\n",
       "        [1.300e+03, 0.000e+00, 0.000e+00, ..., 0.000e+00, 0.000e+00,\n",
       "         0.000e+00]]),\n",
       " array([    0. ,  8475.6, 16951.2, 25426.8, 33902.4, 42378. , 50853.6,\n",
       "        59329.2, 67804.8, 76280.4, 84756. ]),\n",
       " <a list of 1600 BarContainer objects>)"
      ]
     },
     "execution_count": 86,
     "metadata": {},
     "output_type": "execute_result"
    },
    {
     "data": {
      "image/png": "[encoded data removed]",
      "text/plain": [
       "<Figure size 432x288 with 1 Axes>"
      ]
     },
     "metadata": {
      "needs_background": "light"
     },
     "output_type": "display_data"
    }
   ],
   "source": [
    "import matplotlib.pyplot as plt\n",
    "\n",
    "fig, axs = plt.subplots(1, 1, sharey=True, tight_layout=True)\n",
    "axs.hist(reflectance_image, bins=10)"
   ]
  },
  {
   "cell_type": "code",
   "execution_count": 99,
   "metadata": {},
   "outputs": [
    {
     "name": "stdout",
     "output_type": "stream",
     "text": [
      "D:/Andrii/test/ci_raw\\DJI_0021.TIF\n",
      "<micasense.panel.Panel object at 0x000002066FF6CDF0>\n",
      "Detected panel serial: None\n"
     ]
    },
    {
     "ename": "ValueError",
     "evalue": "Input must be >= 2-d.",
     "output_type": "error",
     "traceback": [
      "\u001b[1;31m---------------------------------------------------------------------------\u001b[0m",
      "\u001b[1;31mValueError\u001b[0m                                Traceback (most recent call last)",
      "\u001b[1;32md:\\Andrii\\image_preprocess.ipynb Cell 22\u001b[0m in \u001b[0;36m<cell line: 25>\u001b[1;34m()\u001b[0m\n\u001b[0;32m     <a href='vscode-notebook-cell:/d%3A/Andrii/image_preprocess.ipynb#ch0000027?line=20'>21</a>\u001b[0m \u001b[39m#if not panel.panel_detected():\u001b[39;00m\n\u001b[0;32m     <a href='vscode-notebook-cell:/d%3A/Andrii/image_preprocess.ipynb#ch0000027?line=21'>22</a>\u001b[0m \u001b[39m#    raise IOError(\"Panel Not Detected!\")\u001b[39;00m\n\u001b[0;32m     <a href='vscode-notebook-cell:/d%3A/Andrii/image_preprocess.ipynb#ch0000027?line=23'>24</a>\u001b[0m \u001b[39mprint\u001b[39m(\u001b[39m\"\u001b[39m\u001b[39mDetected panel serial: \u001b[39m\u001b[39m{}\u001b[39;00m\u001b[39m\"\u001b[39m\u001b[39m.\u001b[39mformat(panel\u001b[39m.\u001b[39mserial))\n\u001b[1;32m---> <a href='vscode-notebook-cell:/d%3A/Andrii/image_preprocess.ipynb#ch0000027?line=24'>25</a>\u001b[0m mean, std, num, sat_count \u001b[39m=\u001b[39m panel\u001b[39m.\u001b[39;49mraw()\n\u001b[0;32m     <a href='vscode-notebook-cell:/d%3A/Andrii/image_preprocess.ipynb#ch0000027?line=25'>26</a>\u001b[0m \u001b[39mprint\u001b[39m(\u001b[39m\"\u001b[39m\u001b[39mExtracted Panel Statistics:\u001b[39m\u001b[39m\"\u001b[39m)\n\u001b[0;32m     <a href='vscode-notebook-cell:/d%3A/Andrii/image_preprocess.ipynb#ch0000027?line=26'>27</a>\u001b[0m \u001b[39mprint\u001b[39m(\u001b[39m\"\u001b[39m\u001b[39mMean: \u001b[39m\u001b[39m{}\u001b[39;00m\u001b[39m\"\u001b[39m\u001b[39m.\u001b[39mformat(mean))\n",
      "File \u001b[1;32m~\\p4m\\micasense\\panel.py:232\u001b[0m, in \u001b[0;36mPanel.raw\u001b[1;34m(self)\u001b[0m\n\u001b[0;32m    230\u001b[0m \u001b[39mdef\u001b[39;00m \u001b[39mraw\u001b[39m(\u001b[39mself\u001b[39m):\n\u001b[0;32m    231\u001b[0m     raw_img \u001b[39m=\u001b[39m \u001b[39mself\u001b[39m\u001b[39m.\u001b[39mimage\u001b[39m.\u001b[39mundistorted(\u001b[39mself\u001b[39m\u001b[39m.\u001b[39mimage\u001b[39m.\u001b[39mraw())\n\u001b[1;32m--> 232\u001b[0m     \u001b[39mreturn\u001b[39;00m \u001b[39mself\u001b[39;49m\u001b[39m.\u001b[39;49mregion_stats(raw_img,\n\u001b[0;32m    233\u001b[0m                              \u001b[39mself\u001b[39;49m\u001b[39m.\u001b[39;49mpanel_corners(),\n\u001b[0;32m    234\u001b[0m                              sat_threshold\u001b[39m=\u001b[39;49m\u001b[39m65000\u001b[39;49m)\n",
      "File \u001b[1;32m~\\p4m\\micasense\\panel.py:217\u001b[0m, in \u001b[0;36mPanel.region_stats\u001b[1;34m(self, img, region, sat_threshold)\u001b[0m\n\u001b[0;32m    213\u001b[0m \u001b[39mdef\u001b[39;00m \u001b[39mregion_stats\u001b[39m(\u001b[39mself\u001b[39m, img, region, sat_threshold\u001b[39m=\u001b[39m\u001b[39mNone\u001b[39;00m):\n\u001b[0;32m    214\u001b[0m     \u001b[39m\"\"\"Provide regional statistics for a image over a region\u001b[39;00m\n\u001b[0;32m    215\u001b[0m \u001b[39m    Inputs: img is any image ndarray, region is a skimage shape\u001b[39;00m\n\u001b[0;32m    216\u001b[0m \u001b[39m    Outputs: mean, std, count, and saturated count tuple for the region\"\"\"\u001b[39;00m\n\u001b[1;32m--> 217\u001b[0m     rev_panel_pts \u001b[39m=\u001b[39m np\u001b[39m.\u001b[39;49mfliplr(region) \u001b[39m#skimage and opencv coords are reversed\u001b[39;00m\n\u001b[0;32m    218\u001b[0m     w, h \u001b[39m=\u001b[39m img\u001b[39m.\u001b[39mshape\n\u001b[0;32m    219\u001b[0m     mask \u001b[39m=\u001b[39m measure\u001b[39m.\u001b[39mgrid_points_in_poly((w,h),rev_panel_pts)\n",
      "File \u001b[1;32m<__array_function__ internals>:180\u001b[0m, in \u001b[0;36mfliplr\u001b[1;34m(*args, **kwargs)\u001b[0m\n",
      "File \u001b[1;32mc:\\Users\\caugh\\anaconda3\\envs\\P4M\\lib\\site-packages\\numpy\\lib\\twodim_base.py:97\u001b[0m, in \u001b[0;36mfliplr\u001b[1;34m(m)\u001b[0m\n\u001b[0;32m     95\u001b[0m m \u001b[39m=\u001b[39m asanyarray(m)\n\u001b[0;32m     96\u001b[0m \u001b[39mif\u001b[39;00m m\u001b[39m.\u001b[39mndim \u001b[39m<\u001b[39m \u001b[39m2\u001b[39m:\n\u001b[1;32m---> 97\u001b[0m     \u001b[39mraise\u001b[39;00m \u001b[39mValueError\u001b[39;00m(\u001b[39m\"\u001b[39m\u001b[39mInput must be >= 2-d.\u001b[39m\u001b[39m\"\u001b[39m)\n\u001b[0;32m     98\u001b[0m \u001b[39mreturn\u001b[39;00m m[:, ::\u001b[39m-\u001b[39m\u001b[39m1\u001b[39m]\n",
      "\u001b[1;31mValueError\u001b[0m: Input must be >= 2-d."
     ]
    }
   ],
   "source": [
    "import os, glob\n",
    "from micasense.image import Image\n",
    "from micasense.panel import Panel\n",
    "%matplotlib inline\n",
    "\n",
    "\n",
    "import os, glob\n",
    "from micasense.image import Image\n",
    "from micasense.panel import Panel\n",
    "%matplotlib inline\n",
    "\n",
    "imageName = raw_image\n",
    "\n",
    "print(imageName)\n",
    "\n",
    "img = Image(imageName)\n",
    "if img.auto_calibration_image:\n",
    "    print(\"Found automatic calibration image\")\n",
    "panel = Panel(img)\n",
    "print(panel)\n",
    "#if not panel.panel_detected():\n",
    "#    raise IOError(\"Panel Not Detected!\")\n",
    "    \n",
    "print(\"Detected panel serial: {}\".format(panel.serial))\n",
    "mean, std, num, sat_count = panel.raw()\n",
    "print(\"Extracted Panel Statistics:\")\n",
    "print(\"Mean: {}\".format(mean))\n",
    "print(\"Standard Deviation: {}\".format(std))\n",
    "print(\"Panel Pixel Count: {}\".format(num))\n",
    "print(\"Saturated Pixel Count: {}\".format(sat_count))\n",
    "\n",
    "panel.plot();\n"
   ]
  }
 ],
 "metadata": {
  "kernelspec": {
   "display_name": "Python 3.10.4 ('P4M')",
   "language": "python",
   "name": "python3"
  },
  "language_info": {
   "codemirror_mode": {
    "name": "ipython",
    "version": 3
   },
   "file_extension": ".py",
   "mimetype": "text/x-python",
   "name": "python",
   "nbconvert_exporter": "python",
   "pygments_lexer": "ipython3",
   "version": "3.10.4"
  },
  "orig_nbformat": 4,
  "vscode": {
   "interpreter": {
    "hash": "c6161792e555f3de77e74c63f984b77d94e6e91165502f9c57deb3aab3c8aa6d"
   }
  }
 },
 "nbformat": 4,
 "nbformat_minor": 2
}
