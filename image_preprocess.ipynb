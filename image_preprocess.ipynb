{
 "cells": [
  {
   "cell_type": "markdown",
   "metadata": {},
   "source": [
    "### Image preprocessing for DJI Mavic 2 Pro and Phantom 4 Multispectral (P4M) data\n",
    "##### _Last update: 27 July 2022_\n",
    "##### _Authors: Andrii Zaiats, Valorie Marie_\n",
    "##### Purpose: This file includes image preprocessing steps that can be useful for SfM and multispectral workflows. The following steps are included:\n",
    "\n",
    "RGB images:  \n",
    "\n",
    "1. Converting proprietary image formats (e.g., Sony .ARW) to .dng format.\n",
    "2. Converting .dng files to .jpg\n",
    "3. Applying CLAHE (ontrast-limited adaptive historgram equalization) image corrections\n",
    "4. Copying metadata from .dng to the newly created .jpg files  \n",
    "\n",
    "Multispectral images:  \n",
    "\n",
    "5. DJI Phantom 4 Multispectral images normalization."
   ]
  },
  {
   "cell_type": "markdown",
   "metadata": {},
   "source": [
    "Required software:\n",
    "* <a href=\"https://helpx.adobe.com/camera-raw/using/adobe-dng-converter.html\">Adobe DNG Converter<a>\n",
    "* <a href=\"https://imagemagick.org/\">ImageMagick<a>\n",
    "* <a href=\"https://exiftool.org/\">ExifTool<a>\n",
    "* <a href=\"https://github.com/micasense/imageprocessing\">MicaSense GitHub Image processing repository (_see MicaSense Image Processing Setup.ipynb_)<a>"
   ]
  },
  {
   "cell_type": "markdown",
   "metadata": {},
   "source": [
    "####  1. Converting proprietary image formats (e.g., Sony .ARW) to .dng format.\n",
    "This steps relies on Adobe DNG Converter software (available freely).  \n",
    "\n",
    "Instructions:  \n",
    "* Select intput/output locations: input directory should contain .ARW files, output directory is where the new .dng files will apprear\n",
    "* the rest of the default settings should be fine\n",
    "* click Exit and verify that the new .dng files are where they should be"
   ]
  },
  {
   "cell_type": "markdown",
   "metadata": {},
   "source": [
    "#### 2. Converting .dng files to .jpg  \n",
    "\n",
    "First, specify the path where the .dng files are located (_e.g., `path = 'D:/folder1/folder2/'`_)"
   ]
  },
  {
   "cell_type": "code",
   "execution_count": 1,
   "metadata": {},
   "outputs": [],
   "source": [
    "path = 'D:/Andrii/20220603_InitialPoint/mavic_rgb_images_tif/'"
   ]
  },
  {
   "cell_type": "markdown",
   "metadata": {},
   "source": [
    "Next, run ImageMagick command using python interface. (There exists a designated python package for ImageMagick but currently it is not implmenented).  \n",
    "_Input:_ a path to the folder with .dng images (specified above).  \n",
    "_Output:_ a copy of .dng images in .jpg format in the same directory where the .dng files are. That is okay, after modifying the images we can transfer the files over to a designated, final location."
   ]
  },
  {
   "cell_type": "code",
   "execution_count": 2,
   "metadata": {},
   "outputs": [
    {
     "data": {
      "text/plain": [
       "0"
      ]
     },
     "execution_count": 2,
     "metadata": {},
     "output_type": "execute_result"
    }
   ],
   "source": [
    "cmd = 'magick mogrify -format jpg -quality 100 ' + path + '*.DNG'\n",
    "os.system(cmd)"
   ]
  },
  {
   "cell_type": "markdown",
   "metadata": {},
   "source": [
    "#### 3. Applying CLAHE (contrast-limited adaptive historgram equalization) image corrections\n",
    "Thic correction appears to improve the contrast while mitigating shadows in the images. Not sure what effect this may have for the ODM reconstruction process, but since .jpg file format is mostly used for SfM, changing color properties of the images may help.  \n",
    "\n",
    "_Note: Originally, this correction required adjusting the colours in Lightroom before running the CLAHE correction (not implemented here, but maybe could be done with ImageMagick). If implemented, the colour corrections should be Shadows & Blacks +100 and Highlights & Whites -100_"
   ]
  },
  {
   "cell_type": "code",
   "execution_count": 3,
   "metadata": {},
   "outputs": [],
   "source": [
    "import cv2 as cv\n",
    "from os import listdir\n",
    "from os.path import join\n",
    "\n",
    "files = [s for s in listdir(path) if s.endswith('.jpg')]\n",
    "\n",
    "# provide path to the images\n",
    "for n in range(0, len(files)):\n",
    "    \n",
    "    fimg = join(path, files[n])\n",
    "    img = cv.imread(fimg)\n",
    "\n",
    "    img_yuv = cv.cvtColor(img, cv.COLOR_BGR2YUV)\n",
    "    clahe = cv.createCLAHE(clipLimit = 2, tileGridSize = (8,8))\n",
    "\n",
    "    img_yuv[:,:,0] = clahe.apply(img_yuv[:,:,0])\n",
    "    img_output = cv.cvtColor(img_yuv, cv.COLOR_YUV2BGR)\n",
    "\n",
    "    output_image = join(path, files[n])\n",
    "    cv.imwrite(output_image, img_output)\n"
   ]
  },
  {
   "cell_type": "markdown",
   "metadata": {},
   "source": [
    "#### 4. Copying metadata from .dng to .jpg files\n",
    "After steps 2 and 3, we should have a collection of .jpg files (CLAHE corrected or not) in the same folder where the original .dng files are. In this step, we use `exiftool` package to copy the metadata from the original .dng files to the newly created (and corrected) images. After copying over the metadata, this cell also moves the .jpg files to another, user specified, directory."
   ]
  },
  {
   "cell_type": "code",
   "execution_count": null,
   "metadata": {},
   "outputs": [],
   "source": [
    "import shutil \n",
    "\n",
    "cmd1 = 'exiftool -tagsfromfile %d%f.dng -all:all -overwrite_original -ext jpg ' + path \n",
    "os.system(cmd1)\n",
    "\n",
    "for f in files:\n",
    "    shutil.move(join(path, f), join(path + '/jpg'))"
   ]
  },
  {
   "cell_type": "markdown",
   "metadata": {},
   "source": [
    "##### 5. Multispectral radiometric calibration\n",
    "The following code is relevant to the processing P4M multispectral images only. Specifically, it implements radiometric calibration  using the DLS (on-board Downdwelling Light Sensor on Phantom 4 Multispectral). The code implements a package written specifically for this task (https://github.com/gdslab/p4m), which, in turn, heavily borrows from the MicaSense tutorials and source code.  \n",
    "\n",
    "_Note: the default exiftool package does not work. The solution is to use a previous version of the package (`pip install pyexiftool==0.4.13` from https://github.com/micasense/imageprocessing/issues/177 )._  \n",
    "\n",
    "_Note: to use MicaSense source code from the GitHub repo the repository needs to be activated from the specific Anaconda environment each time the code is used. If using VSCode Editor, in the top-right corner click on the current kernel and make sure to select 'micasense(Python 3.7.23)'._  \n"
   ]
  },
  {
   "cell_type": "code",
   "execution_count": 10,
   "metadata": {},
   "outputs": [
    {
     "data": {
      "text/plain": [
       "0"
      ]
     },
     "execution_count": 10,
     "metadata": {},
     "output_type": "execute_result"
    }
   ],
   "source": [
    "os.chdir('C:/Users/caugh/p4m')\n",
    "os.system('conda activate P4M')\n",
    "os.system('python raw2ref.py D:/Valorie/2022_field_campaign/NorthHam/multispec_images/ D:/Valorie/2022_field_campaign/NorthHam/multispec_images_refl/')"
   ]
  }
 ],
 "metadata": {
  "kernelspec": {
   "display_name": "Python 3 (ipykernel)",
   "language": "python",
   "name": "python3"
  },
  "language_info": {
   "codemirror_mode": {
    "name": "ipython",
    "version": 3
   },
   "file_extension": ".py",
   "mimetype": "text/x-python",
   "name": "python",
   "nbconvert_exporter": "python",
   "pygments_lexer": "ipython3",
   "version": "3.9.7"
  },
  "vscode": {
   "interpreter": {
    "hash": "c6161792e555f3de77e74c63f984b77d94e6e91165502f9c57deb3aab3c8aa6d"
   }
  }
 },
 "nbformat": 4,
 "nbformat_minor": 2
}
